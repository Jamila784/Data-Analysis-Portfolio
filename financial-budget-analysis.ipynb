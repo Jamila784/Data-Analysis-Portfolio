{
 "cells": [
  {
   "cell_type": "code",
   "execution_count": 1,
   "id": "b0f856ec",
   "metadata": {
    "_execution_state": "idle",
    "_uuid": "051d70d956493feee0c6d64651c6a088724dca2a",
    "execution": {
     "iopub.execute_input": "2024-10-16T18:07:51.772942Z",
     "iopub.status.busy": "2024-10-16T18:07:51.770658Z",
     "iopub.status.idle": "2024-10-16T18:07:53.193681Z",
     "shell.execute_reply": "2024-10-16T18:07:53.191656Z"
    },
    "papermill": {
     "duration": 1.433699,
     "end_time": "2024-10-16T18:07:53.196636",
     "exception": false,
     "start_time": "2024-10-16T18:07:51.762937",
     "status": "completed"
    },
    "tags": []
   },
   "outputs": [
    {
     "name": "stderr",
     "output_type": "stream",
     "text": [
      "── \u001b[1mAttaching core tidyverse packages\u001b[22m ──────────────────────── tidyverse 2.0.0 ──\n",
      "\u001b[32m✔\u001b[39m \u001b[34mdplyr    \u001b[39m 1.1.4     \u001b[32m✔\u001b[39m \u001b[34mreadr    \u001b[39m 2.1.5\n",
      "\u001b[32m✔\u001b[39m \u001b[34mforcats  \u001b[39m 1.0.0     \u001b[32m✔\u001b[39m \u001b[34mstringr  \u001b[39m 1.5.1\n",
      "\u001b[32m✔\u001b[39m \u001b[34mggplot2  \u001b[39m 3.5.1     \u001b[32m✔\u001b[39m \u001b[34mtibble   \u001b[39m 3.2.1\n",
      "\u001b[32m✔\u001b[39m \u001b[34mlubridate\u001b[39m 1.9.3     \u001b[32m✔\u001b[39m \u001b[34mtidyr    \u001b[39m 1.3.1\n",
      "\u001b[32m✔\u001b[39m \u001b[34mpurrr    \u001b[39m 1.0.2     \n"
     ]
    },
    {
     "name": "stderr",
     "output_type": "stream",
     "text": [
      "── \u001b[1mConflicts\u001b[22m ────────────────────────────────────────── tidyverse_conflicts() ──\n",
      "\u001b[31m✖\u001b[39m \u001b[34mdplyr\u001b[39m::\u001b[32mfilter()\u001b[39m masks \u001b[34mstats\u001b[39m::filter()\n",
      "\u001b[31m✖\u001b[39m \u001b[34mdplyr\u001b[39m::\u001b[32mlag()\u001b[39m    masks \u001b[34mstats\u001b[39m::lag()\n",
      "\u001b[36mℹ\u001b[39m Use the conflicted package (\u001b[3m\u001b[34m<http://conflicted.r-lib.org/>\u001b[39m\u001b[23m) to force all conflicts to become errors\n"
     ]
    },
    {
     "data": {
      "text/html": [
       "'financial-budget'"
      ],
      "text/latex": [
       "'financial-budget'"
      ],
      "text/markdown": [
       "'financial-budget'"
      ],
      "text/plain": [
       "[1] \"financial-budget\""
      ]
     },
     "metadata": {},
     "output_type": "display_data"
    }
   ],
   "source": [
    "# This R environment comes with many helpful analytics packages installed\n",
    "# It is defined by the kaggle/rstats Docker image: https://github.com/kaggle/docker-rstats\n",
    "# For example, here's a helpful package to load\n",
    "\n",
    "library(tidyverse) # metapackage of all tidyverse packages\n",
    "\n",
    "# Input data files are available in the read-only \"../input/\" directory\n",
    "# For example, running this (by clicking run or pressing Shift+Enter) will list all files under the input directory\n",
    "\n",
    "list.files(path = \"../input\")\n",
    "\n",
    "# You can write up to 20GB to the current directory (/kaggle/working/) that gets preserved as output when you create a version using \"Save & Run All\" \n",
    "# You can also write temporary files to /kaggle/temp/, but they won't be saved outside of the current session"
   ]
  },
  {
   "cell_type": "code",
   "execution_count": 2,
   "id": "69951771",
   "metadata": {
    "execution": {
     "iopub.execute_input": "2024-10-16T18:07:53.245084Z",
     "iopub.status.busy": "2024-10-16T18:07:53.210394Z",
     "iopub.status.idle": "2024-10-16T18:07:53.260267Z",
     "shell.execute_reply": "2024-10-16T18:07:53.258350Z"
    },
    "papermill": {
     "duration": 0.060636,
     "end_time": "2024-10-16T18:07:53.263111",
     "exception": false,
     "start_time": "2024-10-16T18:07:53.202475",
     "status": "completed"
    },
    "tags": []
   },
   "outputs": [],
   "source": [
    "# install packages for analysis\n",
    "library('tidyverse')\n",
    "library(dplyr)"
   ]
  },
  {
   "cell_type": "code",
   "execution_count": 3,
   "id": "54408e22",
   "metadata": {
    "execution": {
     "iopub.execute_input": "2024-10-16T18:07:53.277958Z",
     "iopub.status.busy": "2024-10-16T18:07:53.276265Z",
     "iopub.status.idle": "2024-10-16T18:07:53.302222Z",
     "shell.execute_reply": "2024-10-16T18:07:53.300164Z"
    },
    "papermill": {
     "duration": 0.036463,
     "end_time": "2024-10-16T18:07:53.305079",
     "exception": false,
     "start_time": "2024-10-16T18:07:53.268616",
     "status": "completed"
    },
    "tags": []
   },
   "outputs": [],
   "source": [
    "# importing dataset\n",
    "budget <- read.csv('/kaggle/input/financial-budget/financial budget.csv')"
   ]
  },
  {
   "cell_type": "markdown",
   "id": "f246e9aa",
   "metadata": {
    "papermill": {
     "duration": 0.005313,
     "end_time": "2024-10-16T18:07:53.315979",
     "exception": false,
     "start_time": "2024-10-16T18:07:53.310666",
     "status": "completed"
    },
    "tags": []
   },
   "source": [
    "**preview of dataset**"
   ]
  },
  {
   "cell_type": "code",
   "execution_count": 4,
   "id": "d3f2562a",
   "metadata": {
    "execution": {
     "iopub.execute_input": "2024-10-16T18:07:53.330643Z",
     "iopub.status.busy": "2024-10-16T18:07:53.328900Z",
     "iopub.status.idle": "2024-10-16T18:07:53.377249Z",
     "shell.execute_reply": "2024-10-16T18:07:53.375222Z"
    },
    "papermill": {
     "duration": 0.058458,
     "end_time": "2024-10-16T18:07:53.379874",
     "exception": false,
     "start_time": "2024-10-16T18:07:53.321416",
     "status": "completed"
    },
    "tags": []
   },
   "outputs": [
    {
     "data": {
      "text/html": [
       "<table class=\"dataframe\">\n",
       "<caption>A data.frame: 10 × 2</caption>\n",
       "<thead>\n",
       "\t<tr><th></th><th scope=col>Department..Ministry</th><th scope=col>Fund.allotted.in..crores.</th></tr>\n",
       "\t<tr><th></th><th scope=col>&lt;chr&gt;</th><th scope=col>&lt;dbl&gt;</th></tr>\n",
       "</thead>\n",
       "<tbody>\n",
       "\t<tr><th scope=row>1</th><td>MINISTRY OF AGRICULTURE             </td><td>131531.19</td></tr>\n",
       "\t<tr><th scope=row>2</th><td>DEPARTMENT OF ATOMIC ENERGY         </td><td> 18264.89</td></tr>\n",
       "\t<tr><th scope=row>3</th><td>MINISTRY OF AYURVEDA, YOGA          </td><td>  2970.30</td></tr>\n",
       "\t<tr><th scope=row>4</th><td>MINISTRY OF CHEMICALS AND FERTILISER</td><td> 80714.94</td></tr>\n",
       "\t<tr><th scope=row>5</th><td>MINISTRY OF CIVIL AVIATION          </td><td>  3224.67</td></tr>\n",
       "\t<tr><th scope=row>6</th><td>MINISTRY OF COAL                    </td><td>   534.88</td></tr>\n",
       "\t<tr><th scope=row>7</th><td>MINISTRY OF COMMERCE AND INDUSTRY   </td><td> 12768.25</td></tr>\n",
       "\t<tr><th scope=row>8</th><td>MINISTRY OF COMMUNICATION           </td><td> 75265.22</td></tr>\n",
       "\t<tr><th scope=row>9</th><td>MINISTRY OF CONSUMER AFFAIRS        </td><td>256948.40</td></tr>\n",
       "\t<tr><th scope=row>10</th><td>MINISTRY OF CORPORATE AFFAIRS       </td><td>   712.13</td></tr>\n",
       "</tbody>\n",
       "</table>\n"
      ],
      "text/latex": [
       "A data.frame: 10 × 2\n",
       "\\begin{tabular}{r|ll}\n",
       "  & Department..Ministry & Fund.allotted.in..crores.\\\\\n",
       "  & <chr> & <dbl>\\\\\n",
       "\\hline\n",
       "\t1 & MINISTRY OF AGRICULTURE              & 131531.19\\\\\n",
       "\t2 & DEPARTMENT OF ATOMIC ENERGY          &  18264.89\\\\\n",
       "\t3 & MINISTRY OF AYURVEDA, YOGA           &   2970.30\\\\\n",
       "\t4 & MINISTRY OF CHEMICALS AND FERTILISER &  80714.94\\\\\n",
       "\t5 & MINISTRY OF CIVIL AVIATION           &   3224.67\\\\\n",
       "\t6 & MINISTRY OF COAL                     &    534.88\\\\\n",
       "\t7 & MINISTRY OF COMMERCE AND INDUSTRY    &  12768.25\\\\\n",
       "\t8 & MINISTRY OF COMMUNICATION            &  75265.22\\\\\n",
       "\t9 & MINISTRY OF CONSUMER AFFAIRS         & 256948.40\\\\\n",
       "\t10 & MINISTRY OF CORPORATE AFFAIRS        &    712.13\\\\\n",
       "\\end{tabular}\n"
      ],
      "text/markdown": [
       "\n",
       "A data.frame: 10 × 2\n",
       "\n",
       "| <!--/--> | Department..Ministry &lt;chr&gt; | Fund.allotted.in..crores. &lt;dbl&gt; |\n",
       "|---|---|---|\n",
       "| 1 | MINISTRY OF AGRICULTURE              | 131531.19 |\n",
       "| 2 | DEPARTMENT OF ATOMIC ENERGY          |  18264.89 |\n",
       "| 3 | MINISTRY OF AYURVEDA, YOGA           |   2970.30 |\n",
       "| 4 | MINISTRY OF CHEMICALS AND FERTILISER |  80714.94 |\n",
       "| 5 | MINISTRY OF CIVIL AVIATION           |   3224.67 |\n",
       "| 6 | MINISTRY OF COAL                     |    534.88 |\n",
       "| 7 | MINISTRY OF COMMERCE AND INDUSTRY    |  12768.25 |\n",
       "| 8 | MINISTRY OF COMMUNICATION            |  75265.22 |\n",
       "| 9 | MINISTRY OF CONSUMER AFFAIRS         | 256948.40 |\n",
       "| 10 | MINISTRY OF CORPORATE AFFAIRS        |    712.13 |\n",
       "\n"
      ],
      "text/plain": [
       "   Department..Ministry                 Fund.allotted.in..crores.\n",
       "1  MINISTRY OF AGRICULTURE              131531.19                \n",
       "2  DEPARTMENT OF ATOMIC ENERGY           18264.89                \n",
       "3  MINISTRY OF AYURVEDA, YOGA             2970.30                \n",
       "4  MINISTRY OF CHEMICALS AND FERTILISER  80714.94                \n",
       "5  MINISTRY OF CIVIL AVIATION             3224.67                \n",
       "6  MINISTRY OF COAL                        534.88                \n",
       "7  MINISTRY OF COMMERCE AND INDUSTRY     12768.25                \n",
       "8  MINISTRY OF COMMUNICATION             75265.22                \n",
       "9  MINISTRY OF CONSUMER AFFAIRS         256948.40                \n",
       "10 MINISTRY OF CORPORATE AFFAIRS           712.13                "
      ]
     },
     "metadata": {},
     "output_type": "display_data"
    },
    {
     "data": {
      "text/html": [
       "<table class=\"dataframe\">\n",
       "<caption>A data.frame: 10 × 2</caption>\n",
       "<thead>\n",
       "\t<tr><th></th><th scope=col>Department..Ministry</th><th scope=col>Fund.allotted.in..crores.</th></tr>\n",
       "\t<tr><th></th><th scope=col>&lt;chr&gt;</th><th scope=col>&lt;dbl&gt;</th></tr>\n",
       "</thead>\n",
       "<tbody>\n",
       "\t<tr><th scope=row>48</th><td>DEPARMENT OF SPACE                     </td><td>  13949.09</td></tr>\n",
       "\t<tr><th scope=row>49</th><td>MINISTRY OF STATISTICS                 </td><td>   1409.13</td></tr>\n",
       "\t<tr><th scope=row>50</th><td>MINISTRY OF STEEL                      </td><td>     39.25</td></tr>\n",
       "\t<tr><th scope=row>51</th><td>MINISTRY OF TEXTILES                   </td><td>   3631.64</td></tr>\n",
       "\t<tr><th scope=row>52</th><td>MINISTRY OF TOURISM                    </td><td>   2026.77</td></tr>\n",
       "\t<tr><th scope=row>53</th><td>MINISTRY OF TRIBAL AFFAIRS             </td><td>   7524.87</td></tr>\n",
       "\t<tr><th scope=row>54</th><td>MINISTRY OF WOMEN AND CHILD DEVELOPMENT</td><td>  24435.00</td></tr>\n",
       "\t<tr><th scope=row>55</th><td>MINISTRY OF YOUTH AFFAIRS AND SPORTS   </td><td>   2596.14</td></tr>\n",
       "\t<tr><th scope=row>56</th><td>                                       </td><td>        NA</td></tr>\n",
       "\t<tr><th scope=row>57</th><td>GRAND TOTAL                            </td><td>3483235.63</td></tr>\n",
       "</tbody>\n",
       "</table>\n"
      ],
      "text/latex": [
       "A data.frame: 10 × 2\n",
       "\\begin{tabular}{r|ll}\n",
       "  & Department..Ministry & Fund.allotted.in..crores.\\\\\n",
       "  & <chr> & <dbl>\\\\\n",
       "\\hline\n",
       "\t48 & DEPARMENT OF SPACE                      &   13949.09\\\\\n",
       "\t49 & MINISTRY OF STATISTICS                  &    1409.13\\\\\n",
       "\t50 & MINISTRY OF STEEL                       &      39.25\\\\\n",
       "\t51 & MINISTRY OF TEXTILES                    &    3631.64\\\\\n",
       "\t52 & MINISTRY OF TOURISM                     &    2026.77\\\\\n",
       "\t53 & MINISTRY OF TRIBAL AFFAIRS              &    7524.87\\\\\n",
       "\t54 & MINISTRY OF WOMEN AND CHILD DEVELOPMENT &   24435.00\\\\\n",
       "\t55 & MINISTRY OF YOUTH AFFAIRS AND SPORTS    &    2596.14\\\\\n",
       "\t56 &                                         &         NA\\\\\n",
       "\t57 & GRAND TOTAL                             & 3483235.63\\\\\n",
       "\\end{tabular}\n"
      ],
      "text/markdown": [
       "\n",
       "A data.frame: 10 × 2\n",
       "\n",
       "| <!--/--> | Department..Ministry &lt;chr&gt; | Fund.allotted.in..crores. &lt;dbl&gt; |\n",
       "|---|---|---|\n",
       "| 48 | DEPARMENT OF SPACE                      |   13949.09 |\n",
       "| 49 | MINISTRY OF STATISTICS                  |    1409.13 |\n",
       "| 50 | MINISTRY OF STEEL                       |      39.25 |\n",
       "| 51 | MINISTRY OF TEXTILES                    |    3631.64 |\n",
       "| 52 | MINISTRY OF TOURISM                     |    2026.77 |\n",
       "| 53 | MINISTRY OF TRIBAL AFFAIRS              |    7524.87 |\n",
       "| 54 | MINISTRY OF WOMEN AND CHILD DEVELOPMENT |   24435.00 |\n",
       "| 55 | MINISTRY OF YOUTH AFFAIRS AND SPORTS    |    2596.14 |\n",
       "| 56 | <!----> |         NA |\n",
       "| 57 | GRAND TOTAL                             | 3483235.63 |\n",
       "\n"
      ],
      "text/plain": [
       "   Department..Ministry                    Fund.allotted.in..crores.\n",
       "48 DEPARMENT OF SPACE                        13949.09               \n",
       "49 MINISTRY OF STATISTICS                     1409.13               \n",
       "50 MINISTRY OF STEEL                            39.25               \n",
       "51 MINISTRY OF TEXTILES                       3631.64               \n",
       "52 MINISTRY OF TOURISM                        2026.77               \n",
       "53 MINISTRY OF TRIBAL AFFAIRS                 7524.87               \n",
       "54 MINISTRY OF WOMEN AND CHILD DEVELOPMENT   24435.00               \n",
       "55 MINISTRY OF YOUTH AFFAIRS AND SPORTS       2596.14               \n",
       "56                                                 NA               \n",
       "57 GRAND TOTAL                             3483235.63               "
      ]
     },
     "metadata": {},
     "output_type": "display_data"
    }
   ],
   "source": [
    "# preview first 10 rows of dataset\n",
    "head(budget, 10)\n",
    "\n",
    "# preview last 10 rows of dataset\n",
    "tail(budget, 10)"
   ]
  },
  {
   "cell_type": "code",
   "execution_count": 5,
   "id": "9b0722b9",
   "metadata": {
    "execution": {
     "iopub.execute_input": "2024-10-16T18:07:53.396029Z",
     "iopub.status.busy": "2024-10-16T18:07:53.394290Z",
     "iopub.status.idle": "2024-10-16T18:07:53.416818Z",
     "shell.execute_reply": "2024-10-16T18:07:53.414575Z"
    },
    "papermill": {
     "duration": 0.033593,
     "end_time": "2024-10-16T18:07:53.419673",
     "exception": false,
     "start_time": "2024-10-16T18:07:53.386080",
     "status": "completed"
    },
    "tags": []
   },
   "outputs": [
    {
     "name": "stdout",
     "output_type": "stream",
     "text": [
      "'data.frame':\t57 obs. of  2 variables:\n",
      " $ Department..Ministry     : chr  \"MINISTRY OF AGRICULTURE\" \"DEPARTMENT OF ATOMIC ENERGY\" \"MINISTRY OF AYURVEDA, YOGA\" \"MINISTRY OF CHEMICALS AND FERTILISER\" ...\n",
      " $ Fund.allotted.in..crores.: num  131531 18265 2970 80715 3225 ...\n"
     ]
    }
   ],
   "source": [
    "# checking the structure of the dataset\n",
    "\n",
    "str(budget)"
   ]
  },
  {
   "cell_type": "markdown",
   "id": "0437e14b",
   "metadata": {
    "papermill": {
     "duration": 0.00619,
     "end_time": "2024-10-16T18:07:53.432448",
     "exception": false,
     "start_time": "2024-10-16T18:07:53.426258",
     "status": "completed"
    },
    "tags": []
   },
   "source": [
    "**Preparing dataset for analysis**"
   ]
  },
  {
   "cell_type": "code",
   "execution_count": 6,
   "id": "e6ea8bed",
   "metadata": {
    "execution": {
     "iopub.execute_input": "2024-10-16T18:07:53.448770Z",
     "iopub.status.busy": "2024-10-16T18:07:53.447056Z",
     "iopub.status.idle": "2024-10-16T18:07:53.466290Z",
     "shell.execute_reply": "2024-10-16T18:07:53.464434Z"
    },
    "papermill": {
     "duration": 0.030232,
     "end_time": "2024-10-16T18:07:53.468933",
     "exception": false,
     "start_time": "2024-10-16T18:07:53.438701",
     "status": "completed"
    },
    "tags": []
   },
   "outputs": [
    {
     "data": {
      "text/html": [
       "0"
      ],
      "text/latex": [
       "0"
      ],
      "text/markdown": [
       "0"
      ],
      "text/plain": [
       "[1] 0"
      ]
     },
     "metadata": {},
     "output_type": "display_data"
    }
   ],
   "source": [
    "# checking for duplicate\n",
    "\n",
    "sum(duplicated(budget))"
   ]
  },
  {
   "cell_type": "code",
   "execution_count": 7,
   "id": "b324d2c1",
   "metadata": {
    "execution": {
     "iopub.execute_input": "2024-10-16T18:07:53.485463Z",
     "iopub.status.busy": "2024-10-16T18:07:53.483795Z",
     "iopub.status.idle": "2024-10-16T18:07:53.508634Z",
     "shell.execute_reply": "2024-10-16T18:07:53.499963Z"
    },
    "papermill": {
     "duration": 0.036196,
     "end_time": "2024-10-16T18:07:53.511498",
     "exception": false,
     "start_time": "2024-10-16T18:07:53.475302",
     "status": "completed"
    },
    "tags": []
   },
   "outputs": [
    {
     "data": {
      "text/html": [
       "1"
      ],
      "text/latex": [
       "1"
      ],
      "text/markdown": [
       "1"
      ],
      "text/plain": [
       "[1] 1"
      ]
     },
     "metadata": {},
     "output_type": "display_data"
    }
   ],
   "source": [
    "# checking for and missing datapoint\n",
    "\n",
    "sum(is.na(budget))"
   ]
  },
  {
   "cell_type": "code",
   "execution_count": 8,
   "id": "dcff741a",
   "metadata": {
    "execution": {
     "iopub.execute_input": "2024-10-16T18:07:53.528624Z",
     "iopub.status.busy": "2024-10-16T18:07:53.526873Z",
     "iopub.status.idle": "2024-10-16T18:07:53.555589Z",
     "shell.execute_reply": "2024-10-16T18:07:53.553727Z"
    },
    "papermill": {
     "duration": 0.040041,
     "end_time": "2024-10-16T18:07:53.558318",
     "exception": false,
     "start_time": "2024-10-16T18:07:53.518277",
     "status": "completed"
    },
    "tags": []
   },
   "outputs": [
    {
     "data": {
      "text/html": [
       "<table class=\"dataframe\">\n",
       "<caption>A data.frame: 6 × 2</caption>\n",
       "<thead>\n",
       "\t<tr><th></th><th scope=col>Department..Ministry</th><th scope=col>Fund.allotted.in..crores.</th></tr>\n",
       "\t<tr><th></th><th scope=col>&lt;chr&gt;</th><th scope=col>&lt;dbl&gt;</th></tr>\n",
       "</thead>\n",
       "<tbody>\n",
       "\t<tr><th scope=row>51</th><td>MINISTRY OF TEXTILES                   </td><td>   3631.64</td></tr>\n",
       "\t<tr><th scope=row>52</th><td>MINISTRY OF TOURISM                    </td><td>   2026.77</td></tr>\n",
       "\t<tr><th scope=row>53</th><td>MINISTRY OF TRIBAL AFFAIRS             </td><td>   7524.87</td></tr>\n",
       "\t<tr><th scope=row>54</th><td>MINISTRY OF WOMEN AND CHILD DEVELOPMENT</td><td>  24435.00</td></tr>\n",
       "\t<tr><th scope=row>55</th><td>MINISTRY OF YOUTH AFFAIRS AND SPORTS   </td><td>   2596.14</td></tr>\n",
       "\t<tr><th scope=row>56</th><td>GRAND TOTAL                            </td><td>3483235.63</td></tr>\n",
       "</tbody>\n",
       "</table>\n"
      ],
      "text/latex": [
       "A data.frame: 6 × 2\n",
       "\\begin{tabular}{r|ll}\n",
       "  & Department..Ministry & Fund.allotted.in..crores.\\\\\n",
       "  & <chr> & <dbl>\\\\\n",
       "\\hline\n",
       "\t51 & MINISTRY OF TEXTILES                    &    3631.64\\\\\n",
       "\t52 & MINISTRY OF TOURISM                     &    2026.77\\\\\n",
       "\t53 & MINISTRY OF TRIBAL AFFAIRS              &    7524.87\\\\\n",
       "\t54 & MINISTRY OF WOMEN AND CHILD DEVELOPMENT &   24435.00\\\\\n",
       "\t55 & MINISTRY OF YOUTH AFFAIRS AND SPORTS    &    2596.14\\\\\n",
       "\t56 & GRAND TOTAL                             & 3483235.63\\\\\n",
       "\\end{tabular}\n"
      ],
      "text/markdown": [
       "\n",
       "A data.frame: 6 × 2\n",
       "\n",
       "| <!--/--> | Department..Ministry &lt;chr&gt; | Fund.allotted.in..crores. &lt;dbl&gt; |\n",
       "|---|---|---|\n",
       "| 51 | MINISTRY OF TEXTILES                    |    3631.64 |\n",
       "| 52 | MINISTRY OF TOURISM                     |    2026.77 |\n",
       "| 53 | MINISTRY OF TRIBAL AFFAIRS              |    7524.87 |\n",
       "| 54 | MINISTRY OF WOMEN AND CHILD DEVELOPMENT |   24435.00 |\n",
       "| 55 | MINISTRY OF YOUTH AFFAIRS AND SPORTS    |    2596.14 |\n",
       "| 56 | GRAND TOTAL                             | 3483235.63 |\n",
       "\n"
      ],
      "text/plain": [
       "   Department..Ministry                    Fund.allotted.in..crores.\n",
       "51 MINISTRY OF TEXTILES                       3631.64               \n",
       "52 MINISTRY OF TOURISM                        2026.77               \n",
       "53 MINISTRY OF TRIBAL AFFAIRS                 7524.87               \n",
       "54 MINISTRY OF WOMEN AND CHILD DEVELOPMENT   24435.00               \n",
       "55 MINISTRY OF YOUTH AFFAIRS AND SPORTS       2596.14               \n",
       "56 GRAND TOTAL                             3483235.63               "
      ]
     },
     "metadata": {},
     "output_type": "display_data"
    }
   ],
   "source": [
    "# removing NAN rows\n",
    "\n",
    "budget.v2 <- budget %>% drop_na()\n",
    "\n",
    "# checking cleaned dataset\n",
    "\n",
    "tail(budget.v2)"
   ]
  },
  {
   "cell_type": "code",
   "execution_count": 9,
   "id": "e7fc8951",
   "metadata": {
    "execution": {
     "iopub.execute_input": "2024-10-16T18:07:53.576037Z",
     "iopub.status.busy": "2024-10-16T18:07:53.574316Z",
     "iopub.status.idle": "2024-10-16T18:07:53.594406Z",
     "shell.execute_reply": "2024-10-16T18:07:53.591629Z"
    },
    "papermill": {
     "duration": 0.031773,
     "end_time": "2024-10-16T18:07:53.597108",
     "exception": false,
     "start_time": "2024-10-16T18:07:53.565335",
     "status": "completed"
    },
    "tags": []
   },
   "outputs": [
    {
     "name": "stdout",
     "output_type": "stream",
     "text": [
      "                                         Department..Ministry\n",
      "1                                     MINISTRY OF AGRICULTURE\n",
      "2                                 DEPARTMENT OF ATOMIC ENERGY\n",
      "3                                  MINISTRY OF AYURVEDA, YOGA\n",
      "4                        MINISTRY OF CHEMICALS AND FERTILISER\n",
      "5                                  MINISTRY OF CIVIL AVIATION\n",
      "6                                            MINISTRY OF COAL\n",
      "7                           MINISTRY OF COMMERCE AND INDUSTRY\n",
      "8                                   MINISTRY OF COMMUNICATION\n",
      "9                                MINISTRY OF CONSUMER AFFAIRS\n",
      "10                              MINISTRY OF CORPORATE AFFAIRS\n",
      "11                                        MINISTRY OF CULTURE\n",
      "12                                        MINISTRY OF DEFENCE\n",
      "13            MINISTRY OF DEVELOPMENT OF NORTH EASTERN REGION\n",
      "14                                 MINISTRY OF EARTH SCIENCES\n",
      "15                                      MINISTRY OF EDUCATION\n",
      "16         MINISTRY OF ELECTRONICS AND INFORMATION TECHNOLOGY\n",
      "17                            MINISTRY OF ENVIRONMENT, FOREST\n",
      "18                               MINISTRY OF EXTERNAL AFFAIRS\n",
      "19                                        MINISTRY OF FINANCE\n",
      "20                    MINISTRY OF FISHERIES, ANIMAL HUSBANDRY\n",
      "21                     MINISTRY OF FOOD PROCESSING INDUSTRIES\n",
      "22                      MINISTRY OF HEALTH AND FAMILY WELFARE\n",
      "23                               MINISTRY OF HEAVY INDUSTRIES\n",
      "24                                   MINISTRY OF HOME AFFAIRS\n",
      "25                      MINISTRY OF HOUSING AND URBAN AFFAIRS\n",
      "26                   MINISTRY OF INFORMATION AND BROADCASTING\n",
      "27                                     MINISTRY OF JAL SHAKTI\n",
      "28                          MINISTRY OF LABOUR AND EMPLOYMENT\n",
      "29                                MINISTRY OF LAW AND JUSTICE\n",
      "30            MINISTRY OF MICRO, SMALL AND MEDIUM ENTERPRISES\n",
      "31                                          MINISTRY OF MINES\n",
      "32                                MINISTRY OF MINORITY AFFAIR\n",
      "33                       MINISTRY OF NEW AND RENEWABLE ENERGY\n",
      "34                                 MINISTRY OF PANCHAYATI RAJ\n",
      "35                          MINISTRY OF PARLIAMENTARY AFFAIRS\n",
      "36                   MINISTRY OF PERSONNEL, PUBLIC GRIEVANCES\n",
      "37                      MINISTRY OF PETROLEUM AND NATURAL GAS\n",
      "38                                       MINISTRY OF PLANNING\n",
      "39                                MINISTRY OF PORTS, SHIPPING\n",
      "40                                          MINISTRY OF POWER\n",
      "41 THE PRESIDENT, PARLIAMENT, UNION PUBLIC SERVICE COMMISSION\n",
      "42                                       MINISTRY OF RAILWAYS\n",
      "43                     MINISTRY OF ROAD TRANSPORT AND HIGHWAY\n",
      "44                              MINISTRY OF RURAL DEVELOPMENT\n",
      "45                         MINISTRY OF SCIENCE AND TECHNOLOGY\n",
      "46                              MINISTRY OF SKILL DEVELOPMENT\n",
      "47                 MINISTRY OF SOCIAL JUSTICE AND EMPOWERMENT\n",
      "48                                         DEPARMENT OF SPACE\n",
      "49                                     MINISTRY OF STATISTICS\n",
      "50                                          MINISTRY OF STEEL\n",
      "51                                       MINISTRY OF TEXTILES\n",
      "52                                        MINISTRY OF TOURISM\n",
      "53                                 MINISTRY OF TRIBAL AFFAIRS\n",
      "54                    MINISTRY OF WOMEN AND CHILD DEVELOPMENT\n",
      "55                       MINISTRY OF YOUTH AFFAIRS AND SPORTS\n",
      "56                                                GRAND TOTAL\n",
      "   Fund.allotted.in..crores.\n",
      "1                  131531.19\n",
      "2                   18264.89\n",
      "3                    2970.30\n",
      "4                   80714.94\n",
      "5                    3224.67\n",
      "6                     534.88\n",
      "7                   12768.25\n",
      "8                   75265.22\n",
      "9                  256948.40\n",
      "10                    712.13\n",
      "11                   2687.99\n",
      "12                 478195.62\n",
      "13                   2658.00\n",
      "14                   1897.13\n",
      "15                  93224.31\n",
      "16                   9720.66\n",
      "17                   2869.93\n",
      "18                  18154.73\n",
      "19                1386273.30\n",
      "20                   4322.82\n",
      "21                   1308.66\n",
      "22                  73931.77\n",
      "23                   1017.08\n",
      "24                 166546.94\n",
      "25                  54581.00\n",
      "26                   4071.23\n",
      "27                  69053.02\n",
      "28                  13306.50\n",
      "29                   3229.94\n",
      "30                  15699.65\n",
      "31                   1466.82\n",
      "32                   4810.77\n",
      "33                   5753.00\n",
      "34                    913.43\n",
      "35                     65.07\n",
      "36                   2097.24\n",
      "37                  15943.78\n",
      "38                   1062.77\n",
      "39                   1702.35\n",
      "40                  15322.00\n",
      "41                   1687.57\n",
      "42                 110054.64\n",
      "43                 118101.00\n",
      "44                 133689.50\n",
      "45                  14794.03\n",
      "46                   2785.23\n",
      "47                  11689.39\n",
      "48                  13949.09\n",
      "49                   1409.13\n",
      "50                     39.25\n",
      "51                   3631.64\n",
      "52                   2026.77\n",
      "53                   7524.87\n",
      "54                  24435.00\n",
      "55                   2596.14\n",
      "56                3483235.63\n"
     ]
    }
   ],
   "source": [
    "print(budget.v2)"
   ]
  },
  {
   "cell_type": "markdown",
   "id": "869e769d",
   "metadata": {
    "papermill": {
     "duration": 0.007684,
     "end_time": "2024-10-16T18:07:53.612134",
     "exception": false,
     "start_time": "2024-10-16T18:07:53.604450",
     "status": "completed"
    },
    "tags": []
   },
   "source": [
    "**Preparing dataset for visualization**"
   ]
  },
  {
   "cell_type": "code",
   "execution_count": 10,
   "id": "205bbf88",
   "metadata": {
    "execution": {
     "iopub.execute_input": "2024-10-16T18:07:53.630804Z",
     "iopub.status.busy": "2024-10-16T18:07:53.629051Z",
     "iopub.status.idle": "2024-10-16T18:07:53.666332Z",
     "shell.execute_reply": "2024-10-16T18:07:53.664458Z"
    },
    "papermill": {
     "duration": 0.04949,
     "end_time": "2024-10-16T18:07:53.669111",
     "exception": false,
     "start_time": "2024-10-16T18:07:53.619621",
     "status": "completed"
    },
    "tags": []
   },
   "outputs": [
    {
     "data": {
      "text/html": [
       "<table class=\"dataframe\">\n",
       "<caption>A data.frame: 6 × 2</caption>\n",
       "<thead>\n",
       "\t<tr><th></th><th scope=col>Department..Ministry</th><th scope=col>Fund.allotted.in..crores.</th></tr>\n",
       "\t<tr><th></th><th scope=col>&lt;chr&gt;</th><th scope=col>&lt;dbl&gt;</th></tr>\n",
       "</thead>\n",
       "<tbody>\n",
       "\t<tr><th scope=row>50</th><td>MINISTRY OF STEEL                      </td><td>   39.25</td></tr>\n",
       "\t<tr><th scope=row>51</th><td>MINISTRY OF TEXTILES                   </td><td> 3631.64</td></tr>\n",
       "\t<tr><th scope=row>52</th><td>MINISTRY OF TOURISM                    </td><td> 2026.77</td></tr>\n",
       "\t<tr><th scope=row>53</th><td>MINISTRY OF TRIBAL AFFAIRS             </td><td> 7524.87</td></tr>\n",
       "\t<tr><th scope=row>54</th><td>MINISTRY OF WOMEN AND CHILD DEVELOPMENT</td><td>24435.00</td></tr>\n",
       "\t<tr><th scope=row>55</th><td>MINISTRY OF YOUTH AFFAIRS AND SPORTS   </td><td> 2596.14</td></tr>\n",
       "</tbody>\n",
       "</table>\n"
      ],
      "text/latex": [
       "A data.frame: 6 × 2\n",
       "\\begin{tabular}{r|ll}\n",
       "  & Department..Ministry & Fund.allotted.in..crores.\\\\\n",
       "  & <chr> & <dbl>\\\\\n",
       "\\hline\n",
       "\t50 & MINISTRY OF STEEL                       &    39.25\\\\\n",
       "\t51 & MINISTRY OF TEXTILES                    &  3631.64\\\\\n",
       "\t52 & MINISTRY OF TOURISM                     &  2026.77\\\\\n",
       "\t53 & MINISTRY OF TRIBAL AFFAIRS              &  7524.87\\\\\n",
       "\t54 & MINISTRY OF WOMEN AND CHILD DEVELOPMENT & 24435.00\\\\\n",
       "\t55 & MINISTRY OF YOUTH AFFAIRS AND SPORTS    &  2596.14\\\\\n",
       "\\end{tabular}\n"
      ],
      "text/markdown": [
       "\n",
       "A data.frame: 6 × 2\n",
       "\n",
       "| <!--/--> | Department..Ministry &lt;chr&gt; | Fund.allotted.in..crores. &lt;dbl&gt; |\n",
       "|---|---|---|\n",
       "| 50 | MINISTRY OF STEEL                       |    39.25 |\n",
       "| 51 | MINISTRY OF TEXTILES                    |  3631.64 |\n",
       "| 52 | MINISTRY OF TOURISM                     |  2026.77 |\n",
       "| 53 | MINISTRY OF TRIBAL AFFAIRS              |  7524.87 |\n",
       "| 54 | MINISTRY OF WOMEN AND CHILD DEVELOPMENT | 24435.00 |\n",
       "| 55 | MINISTRY OF YOUTH AFFAIRS AND SPORTS    |  2596.14 |\n",
       "\n"
      ],
      "text/plain": [
       "   Department..Ministry                    Fund.allotted.in..crores.\n",
       "50 MINISTRY OF STEEL                          39.25                 \n",
       "51 MINISTRY OF TEXTILES                     3631.64                 \n",
       "52 MINISTRY OF TOURISM                      2026.77                 \n",
       "53 MINISTRY OF TRIBAL AFFAIRS               7524.87                 \n",
       "54 MINISTRY OF WOMEN AND CHILD DEVELOPMENT 24435.00                 \n",
       "55 MINISTRY OF YOUTH AFFAIRS AND SPORTS     2596.14                 "
      ]
     },
     "metadata": {},
     "output_type": "display_data"
    }
   ],
   "source": [
    "# removing Grand total row\n",
    "budget.v3 <- budget.v2 %>% filter(Department..Ministry != \"GRAND TOTAL\")\n",
    "\n",
    "tail(budget.v3)"
   ]
  },
  {
   "cell_type": "code",
   "execution_count": 11,
   "id": "9ccd678c",
   "metadata": {
    "execution": {
     "iopub.execute_input": "2024-10-16T18:07:53.691296Z",
     "iopub.status.busy": "2024-10-16T18:07:53.688422Z",
     "iopub.status.idle": "2024-10-16T18:07:54.308860Z",
     "shell.execute_reply": "2024-10-16T18:07:54.305818Z"
    },
    "papermill": {
     "duration": 0.635714,
     "end_time": "2024-10-16T18:07:54.313235",
     "exception": false,
     "start_time": "2024-10-16T18:07:53.677521",
     "status": "completed"
    },
    "tags": []
   },
   "outputs": [
    {
     "data": {
      "image/png": "[encoded data removed]"
     },
     "metadata": {
      "image/png": {
       "height": 420,
       "width": 420
      }
     },
     "output_type": "display_data"
    }
   ],
   "source": [
    "ggplot(data = budget.v3, aes(x = Department..Ministry, y = Fund.allotted.in..crores.)) +\n",
    "  geom_bar(stat = \"identity\", fill = \"steelblue\") +\n",
    "  labs(title = \"Total Funds Allotted by Department/Ministry\", x = \"Department/Ministry\", y = \"Total Funds (in Crores)\") +\n",
    "  theme_minimal() +\n",
    "  theme(axis.text.x = element_text(angle = 90, hjust = 1))"
   ]
  },
  {
   "cell_type": "markdown",
   "id": "f8260f67",
   "metadata": {
    "papermill": {
     "duration": 0.010033,
     "end_time": "2024-10-16T18:07:54.333165",
     "exception": false,
     "start_time": "2024-10-16T18:07:54.323132",
     "status": "completed"
    },
    "tags": []
   },
   "source": [
    "Form the chart, we can see that the Finance Department gets the most share from the total goverment allocated funds."
   ]
  }
 ],
 "metadata": {
  "kaggle": {
   "accelerator": "none",
   "dataSources": [
    {
     "datasetId": 4488898,
     "sourceId": 7691701,
     "sourceType": "datasetVersion"
    }
   ],
   "dockerImageVersionId": 30749,
   "isGpuEnabled": false,
   "isInternetEnabled": false,
   "language": "r",
   "sourceType": "notebook"
  },
  "kernelspec": {
   "display_name": "R",
   "language": "R",
   "name": "ir"
  },
  "language_info": {
   "codemirror_mode": "r",
   "file_extension": ".r",
   "mimetype": "text/x-r-source",
   "name": "R",
   "pygments_lexer": "r",
   "version": "4.4.0"
  },
  "papermill": {
   "default_parameters": {},
   "duration": 6.002238,
   "end_time": "2024-10-16T18:07:54.466314",
   "environment_variables": {},
   "exception": null,
   "input_path": "__notebook__.ipynb",
   "output_path": "__notebook__.ipynb",
   "parameters": {},
   "start_time": "2024-10-16T18:07:48.464076",
   "version": "2.6.0"
  }
 },
 "nbformat": 4,
 "nbformat_minor": 5
}
